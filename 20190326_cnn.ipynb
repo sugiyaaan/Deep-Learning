{
  "nbformat": 4,
  "nbformat_minor": 0,
  "metadata": {
    "colab": {
      "name": "20190326_cnn.ipynb",
      "version": "0.3.2",
      "provenance": [],
      "include_colab_link": true
    },
    "kernelspec": {
      "name": "python3",
      "display_name": "Python 3"
    },
    "accelerator": "GPU"
  },
  "cells": [
    {
      "cell_type": "markdown",
      "metadata": {
        "id": "view-in-github",
        "colab_type": "text"
      },
      "source": [
        "<a href=\"https://colab.research.google.com/github/sugiyaaan/Deep-Learning/blob/master/20190326_cnn.ipynb\" target=\"_parent\"><img src=\"https://colab.research.google.com/assets/colab-badge.svg\" alt=\"Open In Colab\"/></a>"
      ]
    },
    {
      "metadata": {
        "id": "SjNdb2zbsF_X",
        "colab_type": "code",
        "colab": {
          "base_uri": "https://localhost:8080/",
          "height": 34
        },
        "outputId": "2e198798-a53a-446e-a3e1-58d9e254a9b8"
      },
      "cell_type": "code",
      "source": [
        "from keras.models import Sequential\n",
        "from keras.layers.convolutional import Conv2D\n",
        "from keras.layers.pooling import MaxPool2D\n",
        "from keras.optimizers import Adam\n",
        "from keras.layers import GlobalAveragePooling2D\n",
        "\n",
        "from keras.layers.core import Dense, Activation, Dropout, Flatten\n",
        "from keras.utils import plot_model\n",
        "from keras.callbacks import TensorBoard\n",
        "\n",
        "from keras.datasets import cifar10\n",
        "from keras.utils import np_utils"
      ],
      "execution_count": 1,
      "outputs": [
        {
          "output_type": "stream",
          "text": [
            "Using TensorFlow backend.\n"
          ],
          "name": "stderr"
        }
      ]
    },
    {
      "metadata": {
        "id": "Lfkz1I2EsZAj",
        "colab_type": "code",
        "colab": {
          "base_uri": "https://localhost:8080/",
          "height": 51
        },
        "outputId": "4a69a6f8-ea6d-4296-9d69-85276ea40334"
      },
      "cell_type": "code",
      "source": [
        "(X_train, y_train),(X_test, y_test) = cifar10.load_data()"
      ],
      "execution_count": 2,
      "outputs": [
        {
          "output_type": "stream",
          "text": [
            "Downloading data from https://www.cs.toronto.edu/~kriz/cifar-10-python.tar.gz\n",
            "170500096/170498071 [==============================] - 86s 1us/step\n"
          ],
          "name": "stdout"
        }
      ]
    },
    {
      "metadata": {
        "id": "fNBiNOsEtxul",
        "colab_type": "code",
        "colab": {}
      },
      "cell_type": "code",
      "source": [
        "# floatに変換しておく\n",
        "X_train = X_train.astype('float32')\n",
        "X_test = X_test.astype('float32')\n",
        "\n",
        "# 正規化\n",
        "X_train /= 255.0\n",
        "X_test /= 255.0\n",
        "\n",
        "# one-hot vector に変換したほうが都合が良い\n",
        "n_classes = 10\n",
        "Y_train = np_utils.to_categorical(y_train, n_classes)\n",
        "Y_test = np_utils.to_categorical(y_test, n_classes)"
      ],
      "execution_count": 0,
      "outputs": []
    },
    {
      "metadata": {
        "id": "yDzEpsnpuX9p",
        "colab_type": "code",
        "colab": {
          "base_uri": "https://localhost:8080/",
          "height": 819
        },
        "outputId": "36675d00-5350-489c-eafa-0cdaee2d4499"
      },
      "cell_type": "code",
      "source": [
        "# モデルの定義\n",
        "model = Sequential()\n",
        "\n",
        "model.add(Conv2D(32,(3,3), padding='same', input_shape=(32,32,3)))\n",
        "model.add(Activation('relu'))\n",
        "model.add(Conv2D(32,(3,3), padding='same'))\n",
        "model.add(Activation('relu'))\n",
        "model.add(Conv2D(32,(3,3), padding='same'))\n",
        "model.add(Activation('relu'))\n",
        "model.add(MaxPool2D(pool_size=(2,2)))\n",
        "\n",
        "# 16x16\n",
        "model.add(Conv2D(64,(3,3), padding='same'))\n",
        "model.add(Activation('relu'))\n",
        "model.add(Conv2D(64,(3,3), padding='same'))\n",
        "model.add(Activation('relu'))\n",
        "model.add(Conv2D(64,(3,3), padding='same'))\n",
        "model.add(Activation('relu'))\n",
        "model.add(MaxPool2D(pool_size=(2,2)))\n",
        "\n",
        "model.add(GlobalAveragePooling2D())\n",
        "model.add(Dense(1024))\n",
        "model.add(Activation('relu'))\n",
        "\n",
        "model.add(Dense(n_classes, activation='softmax'))\n",
        "\n",
        "adam = Adam(lr=1e-3)\n",
        "\n",
        "model.compile(optimizer=adam, loss='categorical_crossentropy', metrics=[\"accuracy\"])\n",
        "\n",
        "model.summary()"
      ],
      "execution_count": 4,
      "outputs": [
        {
          "output_type": "stream",
          "text": [
            "WARNING:tensorflow:From /usr/local/lib/python3.6/dist-packages/tensorflow/python/framework/op_def_library.py:263: colocate_with (from tensorflow.python.framework.ops) is deprecated and will be removed in a future version.\n",
            "Instructions for updating:\n",
            "Colocations handled automatically by placer.\n",
            "_________________________________________________________________\n",
            "Layer (type)                 Output Shape              Param #   \n",
            "=================================================================\n",
            "conv2d_1 (Conv2D)            (None, 32, 32, 32)        896       \n",
            "_________________________________________________________________\n",
            "activation_1 (Activation)    (None, 32, 32, 32)        0         \n",
            "_________________________________________________________________\n",
            "conv2d_2 (Conv2D)            (None, 32, 32, 32)        9248      \n",
            "_________________________________________________________________\n",
            "activation_2 (Activation)    (None, 32, 32, 32)        0         \n",
            "_________________________________________________________________\n",
            "conv2d_3 (Conv2D)            (None, 32, 32, 32)        9248      \n",
            "_________________________________________________________________\n",
            "activation_3 (Activation)    (None, 32, 32, 32)        0         \n",
            "_________________________________________________________________\n",
            "max_pooling2d_1 (MaxPooling2 (None, 16, 16, 32)        0         \n",
            "_________________________________________________________________\n",
            "conv2d_4 (Conv2D)            (None, 16, 16, 64)        18496     \n",
            "_________________________________________________________________\n",
            "activation_4 (Activation)    (None, 16, 16, 64)        0         \n",
            "_________________________________________________________________\n",
            "conv2d_5 (Conv2D)            (None, 16, 16, 64)        36928     \n",
            "_________________________________________________________________\n",
            "activation_5 (Activation)    (None, 16, 16, 64)        0         \n",
            "_________________________________________________________________\n",
            "conv2d_6 (Conv2D)            (None, 16, 16, 64)        36928     \n",
            "_________________________________________________________________\n",
            "activation_6 (Activation)    (None, 16, 16, 64)        0         \n",
            "_________________________________________________________________\n",
            "max_pooling2d_2 (MaxPooling2 (None, 8, 8, 64)          0         \n",
            "_________________________________________________________________\n",
            "global_average_pooling2d_1 ( (None, 64)                0         \n",
            "_________________________________________________________________\n",
            "dense_1 (Dense)              (None, 1024)              66560     \n",
            "_________________________________________________________________\n",
            "activation_7 (Activation)    (None, 1024)              0         \n",
            "_________________________________________________________________\n",
            "dense_2 (Dense)              (None, 10)                10250     \n",
            "=================================================================\n",
            "Total params: 188,554\n",
            "Trainable params: 188,554\n",
            "Non-trainable params: 0\n",
            "_________________________________________________________________\n"
          ],
          "name": "stdout"
        }
      ]
    },
    {
      "metadata": {
        "id": "1QvnHFN4uZUk",
        "colab_type": "code",
        "colab": {
          "base_uri": "https://localhost:8080/",
          "height": 445
        },
        "outputId": "4d2ffd25-075e-4171-f840-396ff6059136"
      },
      "cell_type": "code",
      "source": [
        "batch_size = 50\n",
        "nb_epoch = 10\n",
        "validation_split=0.1\n",
        "\n",
        "history = model.fit(X_train, Y_train, batch_size=batch_size, epochs=nb_epoch, verbose=1, validation_split=validation_split)\n"
      ],
      "execution_count": 5,
      "outputs": [
        {
          "output_type": "stream",
          "text": [
            "WARNING:tensorflow:From /usr/local/lib/python3.6/dist-packages/tensorflow/python/ops/math_ops.py:3066: to_int32 (from tensorflow.python.ops.math_ops) is deprecated and will be removed in a future version.\n",
            "Instructions for updating:\n",
            "Use tf.cast instead.\n",
            "Train on 45000 samples, validate on 5000 samples\n",
            "Epoch 1/10\n",
            "45000/45000 [==============================] - 413s 9ms/step - loss: 1.7991 - acc: 0.3030 - val_loss: 1.5094 - val_acc: 0.4404\n",
            "Epoch 2/10\n",
            "45000/45000 [==============================] - 411s 9ms/step - loss: 1.3416 - acc: 0.5048 - val_loss: 1.1564 - val_acc: 0.5828\n",
            "Epoch 3/10\n",
            "45000/45000 [==============================] - 411s 9ms/step - loss: 1.1198 - acc: 0.5937 - val_loss: 1.0054 - val_acc: 0.6404\n",
            "Epoch 4/10\n",
            "45000/45000 [==============================] - 412s 9ms/step - loss: 0.9831 - acc: 0.6459 - val_loss: 0.9108 - val_acc: 0.6718\n",
            "Epoch 5/10\n",
            "45000/45000 [==============================] - 411s 9ms/step - loss: 0.8806 - acc: 0.6864 - val_loss: 0.8359 - val_acc: 0.7118\n",
            "Epoch 6/10\n",
            "45000/45000 [==============================] - 414s 9ms/step - loss: 0.8005 - acc: 0.7149 - val_loss: 0.8039 - val_acc: 0.7242\n",
            "Epoch 7/10\n",
            "45000/45000 [==============================] - 415s 9ms/step - loss: 0.7312 - acc: 0.7388 - val_loss: 0.7298 - val_acc: 0.7386\n",
            "Epoch 8/10\n",
            "45000/45000 [==============================] - 417s 9ms/step - loss: 0.6791 - acc: 0.7591 - val_loss: 0.7096 - val_acc: 0.7564\n",
            "Epoch 9/10\n",
            "45000/45000 [==============================] - 416s 9ms/step - loss: 0.6360 - acc: 0.7755 - val_loss: 0.7325 - val_acc: 0.7454\n",
            "Epoch 10/10\n",
            "45000/45000 [==============================] - 414s 9ms/step - loss: 0.5906 - acc: 0.7916 - val_loss: 0.6880 - val_acc: 0.7660\n"
          ],
          "name": "stdout"
        }
      ]
    },
    {
      "metadata": {
        "id": "s8VDFhwCucaE",
        "colab_type": "code",
        "colab": {}
      },
      "cell_type": "code",
      "source": [
        "  "
      ],
      "execution_count": 0,
      "outputs": []
    }
  ]
}