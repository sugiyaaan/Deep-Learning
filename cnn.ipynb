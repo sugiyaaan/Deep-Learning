{
  "nbformat": 4,
  "nbformat_minor": 0,
  "metadata": {
    "colab": {
      "name": "cnn.ipynb",
      "version": "0.3.2",
      "provenance": [],
      "collapsed_sections": []
    },
    "kernelspec": {
      "name": "python3",
      "display_name": "Python 3"
    },
    "accelerator": "GPU"
  },
  "cells": [
    {
      "metadata": {
        "id": "Rxhdcx13dv5a",
        "colab_type": "code",
        "outputId": "dc6d0db6-23e3-4671-d270-00ea3f70fa88",
        "colab": {
          "base_uri": "https://localhost:8080/",
          "height": 34
        }
      },
      "cell_type": "code",
      "source": [
        "from keras.models import Sequential\n",
        "from keras.layers.convolutional import Conv2D\n",
        "from keras.layers.pooling import MaxPool2D\n",
        "from keras.optimizers import Adam\n",
        "from keras.layers import GlobalAveragePooling2D\n",
        "\n",
        "from keras.layers.core import Dense, Activation, Dropout, Flatten\n",
        "from keras.utils import plot_model\n",
        "from keras.callbacks import TensorBoard\n",
        "\n",
        "from keras.datasets import cifar10\n",
        "from keras.utils import np_utils"
      ],
      "execution_count": 0,
      "outputs": [
        {
          "output_type": "stream",
          "text": [
            "Using TensorFlow backend.\n"
          ],
          "name": "stderr"
        }
      ]
    },
    {
      "metadata": {
        "id": "GMBH-iM7eCTr",
        "colab_type": "code",
        "outputId": "9f4278d4-b3d5-4112-b948-0df468487701",
        "colab": {
          "base_uri": "https://localhost:8080/",
          "height": 51
        }
      },
      "cell_type": "code",
      "source": [
        "(X_train, y_train),(X_test, y_test) = cifar10.load_data()\n"
      ],
      "execution_count": 0,
      "outputs": [
        {
          "output_type": "stream",
          "text": [
            "Downloading data from https://www.cs.toronto.edu/~kriz/cifar-10-python.tar.gz\n",
            "170500096/170498071 [==============================] - 4s 0us/step\n"
          ],
          "name": "stdout"
        }
      ]
    },
    {
      "metadata": {
        "id": "AVvKcZ5GeG5l",
        "colab_type": "code",
        "colab": {}
      },
      "cell_type": "code",
      "source": [
        "# floatに変換しておく\n",
        "X_train = X_train.astype('float32')\n",
        "X_test = X_test.astype('float32')\n",
        "\n",
        "# 正規化\n",
        "X_train /= 255.0\n",
        "X_test /= 255.0\n",
        "\n",
        "# one-hot vector に変換したほうが都合が良い\n",
        "n_classes = 10\n",
        "Y_train = np_utils.to_categorical(y_train, n_classes)\n",
        "Y_test = np_utils.to_categorical(y_test, n_classes)"
      ],
      "execution_count": 0,
      "outputs": []
    },
    {
      "metadata": {
        "id": "lTwq050qedrJ",
        "colab_type": "code",
        "outputId": "fe60761e-5525-43ac-fcf9-ea81042506d7",
        "colab": {
          "base_uri": "https://localhost:8080/",
          "height": 754
        }
      },
      "cell_type": "code",
      "source": [
        "# モデルの定義\n",
        "model = Sequential()\n",
        "\n",
        "model.add(Conv2D(32,(3,3), padding='same', input_shape=(32,32,3)))\n",
        "model.add(Activation('relu'))\n",
        "model.add(Conv2D(32,(3,3), padding='same'))\n",
        "model.add(Activation('relu'))\n",
        "model.add(Conv2D(32,(3,3), padding='same'))\n",
        "model.add(Activation('relu'))\n",
        "model.add(MaxPool2D(pool_size=(2,2)))\n",
        "\n",
        "# 16x16\n",
        "model.add(Conv2D(64,(3,3), padding='same'))\n",
        "model.add(Activation('relu'))\n",
        "model.add(Conv2D(64,(3,3), padding='same'))\n",
        "model.add(Activation('relu'))\n",
        "model.add(Conv2D(64,(3,3), padding='same'))\n",
        "model.add(Activation('relu'))\n",
        "model.add(MaxPool2D(pool_size=(2,2)))\n",
        "\n",
        "model.add(GlobalAveragePooling2D())\n",
        "model.add(Dense(1024))\n",
        "model.add(Activation('relu'))\n",
        "\n",
        "model.add(Dense(n_classes, activation='softmax'))\n",
        "\n",
        "adam = Adam(lr=1e-3)\n",
        "\n",
        "model.compile(optimizer=adam, loss='categorical_crossentropy', metrics=[\"accuracy\"])\n",
        "\n",
        "model.summary()"
      ],
      "execution_count": 0,
      "outputs": [
        {
          "output_type": "stream",
          "text": [
            "_________________________________________________________________\n",
            "Layer (type)                 Output Shape              Param #   \n",
            "=================================================================\n",
            "conv2d_31 (Conv2D)           (None, 32, 32, 32)        896       \n",
            "_________________________________________________________________\n",
            "activation_33 (Activation)   (None, 32, 32, 32)        0         \n",
            "_________________________________________________________________\n",
            "conv2d_32 (Conv2D)           (None, 32, 32, 32)        9248      \n",
            "_________________________________________________________________\n",
            "activation_34 (Activation)   (None, 32, 32, 32)        0         \n",
            "_________________________________________________________________\n",
            "conv2d_33 (Conv2D)           (None, 32, 32, 32)        9248      \n",
            "_________________________________________________________________\n",
            "activation_35 (Activation)   (None, 32, 32, 32)        0         \n",
            "_________________________________________________________________\n",
            "max_pooling2d_11 (MaxPooling (None, 16, 16, 32)        0         \n",
            "_________________________________________________________________\n",
            "conv2d_34 (Conv2D)           (None, 16, 16, 64)        18496     \n",
            "_________________________________________________________________\n",
            "activation_36 (Activation)   (None, 16, 16, 64)        0         \n",
            "_________________________________________________________________\n",
            "conv2d_35 (Conv2D)           (None, 16, 16, 64)        36928     \n",
            "_________________________________________________________________\n",
            "activation_37 (Activation)   (None, 16, 16, 64)        0         \n",
            "_________________________________________________________________\n",
            "conv2d_36 (Conv2D)           (None, 16, 16, 64)        36928     \n",
            "_________________________________________________________________\n",
            "activation_38 (Activation)   (None, 16, 16, 64)        0         \n",
            "_________________________________________________________________\n",
            "max_pooling2d_12 (MaxPooling (None, 8, 8, 64)          0         \n",
            "_________________________________________________________________\n",
            "global_average_pooling2d_2 ( (None, 64)                0         \n",
            "_________________________________________________________________\n",
            "dense_5 (Dense)              (None, 1024)              66560     \n",
            "_________________________________________________________________\n",
            "activation_39 (Activation)   (None, 1024)              0         \n",
            "_________________________________________________________________\n",
            "dense_6 (Dense)              (None, 10)                10250     \n",
            "=================================================================\n",
            "Total params: 188,554\n",
            "Trainable params: 188,554\n",
            "Non-trainable params: 0\n",
            "_________________________________________________________________\n"
          ],
          "name": "stdout"
        }
      ]
    },
    {
      "metadata": {
        "id": "gonNGQGMej81",
        "colab_type": "code",
        "outputId": "99be2ce1-4e81-4674-ff15-772111ff33be",
        "colab": {
          "base_uri": "https://localhost:8080/",
          "height": 397
        }
      },
      "cell_type": "code",
      "source": [
        "batch_size = 50\n",
        "nb_epoch = 10\n",
        "validation_split=0.1\n",
        "\n",
        "history = model.fit(X_train, Y_train, batch_size=batch_size, epochs=nb_epoch, verbose=1, validation_split=validation_split)\n"
      ],
      "execution_count": 0,
      "outputs": [
        {
          "output_type": "stream",
          "text": [
            "Train on 45000 samples, validate on 5000 samples\n",
            "Epoch 1/10\n",
            "45000/45000 [==============================] - 23s 508us/step - loss: 1.8222 - acc: 0.2915 - val_loss: 1.5688 - val_acc: 0.4120\n",
            "Epoch 2/10\n",
            "45000/45000 [==============================] - 18s 404us/step - loss: 1.4285 - acc: 0.4673 - val_loss: 1.3128 - val_acc: 0.5144\n",
            "Epoch 3/10\n",
            "45000/45000 [==============================] - 19s 413us/step - loss: 1.2166 - acc: 0.5530 - val_loss: 1.0970 - val_acc: 0.6052\n",
            "Epoch 4/10\n",
            "45000/45000 [==============================] - 18s 402us/step - loss: 1.0627 - acc: 0.6175 - val_loss: 0.9684 - val_acc: 0.6482\n",
            "Epoch 5/10\n",
            "45000/45000 [==============================] - 18s 400us/step - loss: 0.9483 - acc: 0.6593 - val_loss: 0.9017 - val_acc: 0.6796\n",
            "Epoch 6/10\n",
            "45000/45000 [==============================] - 18s 409us/step - loss: 0.8647 - acc: 0.6925 - val_loss: 0.8576 - val_acc: 0.7024\n",
            "Epoch 7/10\n",
            "45000/45000 [==============================] - 18s 410us/step - loss: 0.7875 - acc: 0.7194 - val_loss: 0.8002 - val_acc: 0.7200\n",
            "Epoch 8/10\n",
            "45000/45000 [==============================] - 19s 412us/step - loss: 0.7308 - acc: 0.7407 - val_loss: 0.7571 - val_acc: 0.7374\n",
            "Epoch 9/10\n",
            "45000/45000 [==============================] - 19s 412us/step - loss: 0.6714 - acc: 0.7633 - val_loss: 0.7076 - val_acc: 0.7552\n",
            "Epoch 10/10\n",
            "45000/45000 [==============================] - 18s 407us/step - loss: 0.6279 - acc: 0.7774 - val_loss: 0.7478 - val_acc: 0.7450\n"
          ],
          "name": "stdout"
        }
      ]
    },
    {
      "metadata": {
        "id": "-q3j3GLDaj6f",
        "colab_type": "code",
        "colab": {}
      },
      "cell_type": "code",
      "source": [
        ""
      ],
      "execution_count": 0,
      "outputs": []
    }
  ]
}